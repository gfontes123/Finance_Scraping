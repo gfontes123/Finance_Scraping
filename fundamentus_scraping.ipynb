{
 "cells": [
  {
   "cell_type": "code",
   "execution_count": null,
   "metadata": {},
   "outputs": [],
   "source": [
    "import numpy as np\n",
    "import pandas as pd\n",
    "import matplotlib.pyplot as plt\n",
    "import requests"
   ]
  },
  {
   "cell_type": "code",
   "execution_count": null,
   "metadata": {},
   "outputs": [],
   "source": [
    "url = \"https://www.fundamentus.com.br/resultado.php\"\n",
    "agent = {\"User-Agent\":'Mozilla/5.0 (Windows NT 6.3; WOW64) AppleWebKit/537.36 (KHTML, like Gecko) Chrome/59.0.3071.115 Safari/537.36'}\n",
    "page = requests.get(url, headers=agent)"
   ]
  },
  {
   "cell_type": "code",
   "execution_count": null,
   "metadata": {},
   "outputs": [],
   "source": [
    "dfs = pd.read_html(page.text, decimal=',',thousands='.')\n",
    "df = dfs[0]"
   ]
  },
  {
   "cell_type": "code",
   "execution_count": null,
   "metadata": {},
   "outputs": [],
   "source": [
    "#converte string de porcentagem para float\n",
    "def convert(valor):\n",
    "    valor = valor[0:len(valor)-1]\n",
    "    new = ''\n",
    "    for i in range(0,len(valor)):\n",
    "        if valor[i] == ',':\n",
    "            new += '.'\n",
    "        else:\n",
    "            new += valor[i]\n",
    "    return(float(new))"
   ]
  },
  {
   "cell_type": "code",
   "execution_count": null,
   "metadata": {},
   "outputs": [],
   "source": [
    "for i in range(0,len(df)):\n",
    "    df['Div.Yield'][i] = convert(df['Div.Yield'][i])\n",
    "    df['Mrg Ebit'][i] = convert(df['Mrg Ebit'][i])\n",
    "    df['Mrg. Líq.'][i] = convert(df['Mrg. Líq.'][i])\n",
    "    df['ROIC'][i] = convert(df['ROIC'][i])\n",
    "    df['ROE'][i] = convert(df['ROE'][i])\n",
    "    df['Cresc. Rec.5a'][i] = convert(df['Cresc. Rec.5a'][i])"
   ]
  }
 ],
 "metadata": {
  "kernelspec": {
   "display_name": "Python 3",
   "language": "python",
   "name": "python3"
  },
  "language_info": {
   "codemirror_mode": {
    "name": "ipython",
    "version": 3
   },
   "file_extension": ".py",
   "mimetype": "text/x-python",
   "name": "python",
   "nbconvert_exporter": "python",
   "pygments_lexer": "ipython3",
   "version": "3.7.1"
  }
 },
 "nbformat": 4,
 "nbformat_minor": 2
}